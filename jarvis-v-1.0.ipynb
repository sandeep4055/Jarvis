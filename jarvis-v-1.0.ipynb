{
 "cells": [
  {
   "cell_type": "code",
   "execution_count": 4,
   "metadata": {},
   "outputs": [],
   "source": [
    "import pyttsx3"
   ]
  },
  {
   "cell_type": "code",
   "execution_count": 5,
   "metadata": {},
   "outputs": [],
   "source": [
    "import datetime"
   ]
  },
  {
   "cell_type": "code",
   "execution_count": 6,
   "metadata": {},
   "outputs": [],
   "source": [
    "import speech_recognition as sr"
   ]
  },
  {
   "cell_type": "code",
   "execution_count": 7,
   "metadata": {},
   "outputs": [],
   "source": [
    "import wikipedia"
   ]
  },
  {
   "cell_type": "code",
   "execution_count": 8,
   "metadata": {},
   "outputs": [],
   "source": [
    "import smtplib"
   ]
  },
  {
   "cell_type": "code",
   "execution_count": 9,
   "metadata": {},
   "outputs": [],
   "source": [
    "import webbrowser as wb"
   ]
  },
  {
   "cell_type": "code",
   "execution_count": 10,
   "metadata": {},
   "outputs": [],
   "source": [
    "import psutil"
   ]
  },
  {
   "cell_type": "code",
   "execution_count": 11,
   "metadata": {},
   "outputs": [],
   "source": [
    "import pyjokes"
   ]
  },
  {
   "cell_type": "code",
   "execution_count": 22,
   "metadata": {},
   "outputs": [],
   "source": [
    "import os"
   ]
  },
  {
   "cell_type": "code",
   "execution_count": null,
   "metadata": {},
   "outputs": [],
   "source": []
  },
  {
   "cell_type": "code",
   "execution_count": null,
   "metadata": {},
   "outputs": [],
   "source": []
  },
  {
   "cell_type": "code",
   "execution_count": 12,
   "metadata": {},
   "outputs": [],
   "source": [
    "engine = pyttsx3.init()"
   ]
  },
  {
   "cell_type": "code",
   "execution_count": null,
   "metadata": {},
   "outputs": [],
   "source": []
  },
  {
   "cell_type": "code",
   "execution_count": 13,
   "metadata": {},
   "outputs": [],
   "source": [
    "def speak():\n",
    "    engine.say(\"hello world\")\n",
    "    engine.runAndWait()"
   ]
  },
  {
   "cell_type": "code",
   "execution_count": 14,
   "metadata": {},
   "outputs": [],
   "source": [
    "def time_():\n",
    "    Time = datetime.datetime.now().strftime(\"%I:%M:%S\")\n",
    "    pyttsx3.speak('The current time is')\n",
    "    pyttsx3.speak(Time)"
   ]
  },
  {
   "cell_type": "code",
   "execution_count": 15,
   "metadata": {},
   "outputs": [],
   "source": [
    "def date_():\n",
    "    year = datetime.datetime.now().year\n",
    "    month = datetime.datetime.now().month\n",
    "    day = datetime.datetime.now().day\n",
    "    pyttsx3.speak('The current date is')\n",
    "    pyttsx3.speak(day)\n",
    "    pyttsx3.speak(month)\n",
    "    pyttsx3.speak(year)\n",
    "    "
   ]
  },
  {
   "cell_type": "code",
   "execution_count": 16,
   "metadata": {},
   "outputs": [],
   "source": [
    "def wishme():\n",
    "    pyttsx3.speak(\"welcome back sandeep\")\n",
    "    \n",
    "    #greetings\n",
    "    hour = datetime.datetime.now().hour\n",
    "    \n",
    "    if hour>= 6 and hour<12:\n",
    "        pyttsx3.speak(\"Good Morning Sir!\")\n",
    "    elif hour>=12 and hour<18:\n",
    "        pyttsx3.speak(\"Good Afternoon Sir!\")\n",
    "    elif hour>=18 and hour<24:\n",
    "        pyttsx3.speak(\"Good Evening Sir!\")\n",
    "    else :\n",
    "        pyttsx3.speak(\"Good Night Sir\")\n",
    "        \n",
    "    pyttsx3.speak(\"Jarvis at your service , please tell me how can i help you\")"
   ]
  },
  {
   "cell_type": "code",
   "execution_count": 17,
   "metadata": {},
   "outputs": [],
   "source": [
    "def TakeCommand():\n",
    "    r = sr.Recognizer()\n",
    "    with sr.Microphone() as source:\n",
    "        print(\"listening......\")\n",
    "        pyttsx3.speak(\"listening....\")\n",
    "        r.pause_threshold = 1\n",
    "        audio = r.listen(source)\n",
    "        \n",
    "    try:\n",
    "        print(\"Recognizing.......\")\n",
    "        query = r.recognize_google(audio,language=\"en-us\")\n",
    "        print(query)\n",
    "        pyttsx3.speak(query)\n",
    "    except Exception as e: \n",
    "        print(e)\n",
    "        print(\"Say that again please.....\")\n",
    "        pyttsx3.speak(\"Say that again please.....\")\n",
    "        return \"None\"\n",
    "    return query\n",
    "        "
   ]
  },
  {
   "cell_type": "code",
   "execution_count": 18,
   "metadata": {},
   "outputs": [],
   "source": [
    "def cpu():\n",
    "    usage = str(psutil.cpu_percent())\n",
    "    pyttsx3.speak(\"cpu is at\"+usage)\n",
    "    battery = psutil.sensors_battery()\n",
    "    pyttsx3.speak(\"battery is at\")\n",
    "    pyttsx3.speak(battery)\n",
    "    memory = psutil.virtual_memory()\n",
    "    pyttsx3.speak(\"amount of memory under consumption\")\n",
    "    pyttsx3.speak(memory)\n",
    "    \n",
    "\n",
    "    "
   ]
  },
  {
   "cell_type": "code",
   "execution_count": 19,
   "metadata": {},
   "outputs": [],
   "source": [
    "def sendEmail(to,content):\n",
    "    server = smtplib.SMTP(\"smtp.gmail.com\",587)\n",
    "    server.ehlo()\n",
    "    server.starttls()\n",
    "    server.login(\"username@gmail.com\",\"password\")\n",
    "    server.sendmail(\"user@gmail.com\",\"password\")\n",
    "    server.close()"
   ]
  },
  {
   "cell_type": "code",
   "execution_count": 20,
   "metadata": {
    "scrolled": true
   },
   "outputs": [],
   "source": [
    "def joke():\n",
    "        pyttsx3.speak(pyjokes.get_joke())\n",
    "        \n",
    "joke()"
   ]
  },
  {
   "cell_type": "code",
   "execution_count": null,
   "metadata": {},
   "outputs": [],
   "source": []
  },
  {
   "cell_type": "code",
   "execution_count": null,
   "metadata": {},
   "outputs": [],
   "source": []
  },
  {
   "cell_type": "code",
   "execution_count": null,
   "metadata": {},
   "outputs": [],
   "source": []
  },
  {
   "cell_type": "code",
   "execution_count": 29,
   "metadata": {},
   "outputs": [
    {
     "name": "stdout",
     "output_type": "stream",
     "text": [
      "listening......\n",
      "Recognizing.......\n",
      "Jarvis write a note\n",
      "listening......\n",
      "Recognizing.......\n",
      "jarvis go go go\n",
      "listening......\n",
      "Recognizing.......\n",
      "sure\n",
      "listening......\n",
      "Recognizing.......\n",
      "direct show notes\n",
      "03:15:58:-jarvis go go got\n",
      "listening......\n",
      "Recognizing.......\n",
      "jarvis go offline\n"
     ]
    }
   ],
   "source": [
    "if __name__ == \"__main__\":\n",
    "    \n",
    "    wishme()\n",
    "    \n",
    "    while True:\n",
    "        query = TakeCommand().lower()\n",
    "        #takes the command in lower case\n",
    "        \n",
    "        if 'time' in query:\n",
    "            time_()\n",
    "        elif 'date' in query:\n",
    "            date_()\n",
    "        elif 'wikipedia' in query:\n",
    "            pyttsx3.speak(\"Searching....\")\n",
    "            query=query.replace(\"wikipedia\",'')\n",
    "            result=wikipedia.summary(query,sentences=3)\n",
    "            pyttsx3.speak('According to the wikipedia')\n",
    "            print(result)\n",
    "            pyttsx3.speak(result)\n",
    "        elif \"send mail\" in query:\n",
    "            try:\n",
    "                pyttsx3.speak(\"Can u tell me to whom i should send Email\")\n",
    "                reciever = TakeCommand()\n",
    "                print(receiver)\n",
    "                to = receiver\n",
    "                pyttsx3.speak(\"What should i say?\")\n",
    "                content = TakeCommand()\n",
    "                print(\"content\")\n",
    "                sendEmail(to,content)\n",
    "                pyttsx3.speak(\"Email has been sent\")\n",
    "                \n",
    "            except Exception as e:\n",
    "                print(e)\n",
    "                pyttsx3.speak(\"Unable to send Email..\")\n",
    "        elif \"search in chrome\" in query :\n",
    "            pyttsx3.speak(\"What Should i Search?\")\n",
    "            chromepath1 = r\"C:\\Program Files\\Google\\Chrome\\Application\\chrome.exe\"\n",
    "            wb.register('chrome',None,wb.BackgroundBrowser(chromepath1))\n",
    "            wb.get(\"chrome\").open_new_tab(query + \".com\")\n",
    "        \n",
    "        elif 'search in youtube' in query:\n",
    "            pyttsx3.speak(\"what should i search\")\n",
    "            search_term = TakeCommand().lower()\n",
    "            pyttsx3.speak(\"here we go to youtube..\")\n",
    "            wb.open(\"https://www.youtube.com/results?search_query=\"+search_term)\n",
    "            \n",
    "        elif 'search in google' in query:\n",
    "            pyttsx3.speak(\"what should i search\")\n",
    "            search_term = TakeCommand().lower()\n",
    "            pyttsx3.speak(\"searching....\")\n",
    "            wb.open(\"https://www.google.com/search?q=\"+search_term)\n",
    "            \n",
    "        elif \"cpu\" in query:\n",
    "            cpu()\n",
    "            \n",
    "        elif \"joke\" in query:\n",
    "                joke()\n",
    "        \n",
    "        elif \"write a note\" in query:\n",
    "            pyttsx3.speak(\"what should i write sir.....\")\n",
    "            notes = TakeCommand()\n",
    "            file = open(\"notes.txt\",\"w\")\n",
    "            pyttsx3.speak(\"sir should i include date and time?\")\n",
    "            ans = TakeCommand()\n",
    "            if 'yes' in ans or 'sure' in ans:\n",
    "                strtime  = datetime.datetime.now().strftime(\"%I:%M:%S\")\n",
    "                file.write(strtime)\n",
    "                file.write(':-')\n",
    "                file.write(notes)\n",
    "                pyttsx3.speak(\"done taking notes, sir!\")\n",
    "            else:\n",
    "                file.write(notes)\n",
    "            \n",
    "        elif \"show notes\" in query:\n",
    "            pyttsx3.speak(\"showning notes sir..\")\n",
    "            file = open(\"notes.txt\",\"r\")\n",
    "            print(file.read())\n",
    "            pyttsx3.speak(file.read())\n",
    "            \n",
    "        \n",
    "            \n",
    "        elif \"go offline\" in query:\n",
    "            pyttsx3.speak(\"jarvis going offline sir... \")\n",
    "            break\n",
    "            "
   ]
  },
  {
   "cell_type": "code",
   "execution_count": null,
   "metadata": {},
   "outputs": [],
   "source": []
  },
  {
   "cell_type": "code",
   "execution_count": null,
   "metadata": {},
   "outputs": [],
   "source": []
  },
  {
   "cell_type": "code",
   "execution_count": null,
   "metadata": {},
   "outputs": [],
   "source": []
  },
  {
   "cell_type": "code",
   "execution_count": null,
   "metadata": {},
   "outputs": [],
   "source": []
  },
  {
   "cell_type": "code",
   "execution_count": null,
   "metadata": {},
   "outputs": [],
   "source": []
  },
  {
   "cell_type": "code",
   "execution_count": null,
   "metadata": {},
   "outputs": [],
   "source": []
  },
  {
   "cell_type": "code",
   "execution_count": null,
   "metadata": {},
   "outputs": [],
   "source": []
  },
  {
   "cell_type": "code",
   "execution_count": null,
   "metadata": {},
   "outputs": [],
   "source": []
  }
 ],
 "metadata": {
  "kernelspec": {
   "display_name": "Python 3",
   "language": "python",
   "name": "python3"
  },
  "language_info": {
   "codemirror_mode": {
    "name": "ipython",
    "version": 3
   },
   "file_extension": ".py",
   "mimetype": "text/x-python",
   "name": "python",
   "nbconvert_exporter": "python",
   "pygments_lexer": "ipython3",
   "version": "3.8.5"
  }
 },
 "nbformat": 4,
 "nbformat_minor": 4
}
